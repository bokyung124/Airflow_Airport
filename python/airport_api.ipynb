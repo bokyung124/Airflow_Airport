{
  "nbformat": 4,
  "nbformat_minor": 0,
  "metadata": {
    "colab": {
      "provenance": [],
      "authorship_tag": "ABX9TyNDlPCzT7M5RjXP7UYBkQfz"
    },
    "kernelspec": {
      "name": "python3",
      "display_name": "Python 3"
    },
    "language_info": {
      "name": "python"
    }
  },
  "cells": [
    {
      "cell_type": "markdown",
      "source": [
        "# 라이브러리 호출 및 access key"
      ],
      "metadata": {
        "id": "gEn7EvqK89Id"
      }
    },
    {
      "cell_type": "code",
      "execution_count": null,
      "metadata": {
        "id": "AkTqUKss863r"
      },
      "outputs": [],
      "source": [
        "import requests\n",
        "import json\n",
        "import pprint\n",
        "import pandas as pd\n",
        "from itertools import islice"
      ]
    },
    {
      "cell_type": "code",
      "source": [
        "flight_access_key = '***'\n",
        "price_access_key = '***'\n",
        "price_secret_key = '***'"
      ],
      "metadata": {
        "id": "T2BLPKYm9Cf0"
      },
      "execution_count": null,
      "outputs": []
    },
    {
      "cell_type": "markdown",
      "source": [
        "# real-time flights\n",
        "\n",
        "https://aviationstack.com/documentation"
      ],
      "metadata": {
        "id": "aSSF0U82HzV2"
      }
    },
    {
      "cell_type": "code",
      "source": [
        "url = 'http://api.aviationstack.com/v1/flights'\n",
        "params ={'access_key' : flight_access_key, 'limit':limit, 'dep_iata':'ICN'}\n",
        "\n",
        "response = requests.get(url, params=params)\n",
        "flights = json.loads(response.text)\n",
        "\n",
        "flight_list = []\n",
        "\n",
        "try:\n",
        "    for flight in flights.get('data'):\n",
        "        arrival_country = flight['arrival']['iata']               # 도착 국가\n",
        "        arrival_airport = flight['arrival']['airport']            # 도착 공항\n",
        "        arrival_sched_time  = flight['arrival']['scheduled']      # 도착 예정 시간\n",
        "        departure_airport = flight['departure']['airport']        # 출발 공항 (인천공항)\n",
        "        departure_sched_time = flight['departure']['scheduled']   # 출발 예정 시간\n",
        "        flight_iata = flight['flight']['iata']                    # 항공편명\n",
        "\n",
        "        flight_dict = {'flight_iata':flight_iata, 'departure_sched_time':departure_sched_time, 'departure_airport':departure_airport, \\\n",
        "                    'arrival_country':arrival_country, 'arrival_airport':arrival_airport, 'arrival_sched_time':arrival_sched_time}\n",
        "        flight_list.append(flight_dict)\n",
        "except:\n",
        "    print(response.status_code)\n",
        "    print(response.text)\n",
        "\n",
        "flight_list[:3]"
      ],
      "metadata": {
        "id": "lswFlFn9I9mu",
        "colab": {
          "base_uri": "https://localhost:8080/"
        },
        "outputId": "4b6b3529-e00c-439f-f215-4ad022504462"
      },
      "execution_count": null,
      "outputs": [
        {
          "output_type": "execute_result",
          "data": {
            "text/plain": [
              "[{'flight_iata': 'AF267',\n",
              "  'departure_sched_time': '2024-01-11T11:45:00+00:00',\n",
              "  'departure_airport': 'Seoul (Incheon)',\n",
              "  'arrival_country': 'CDG',\n",
              "  'arrival_airport': 'Charles De Gaulle',\n",
              "  'arrival_sched_time': '2024-01-11T18:25:00+00:00'},\n",
              " {'flight_iata': 'LJ211',\n",
              "  'departure_sched_time': '2024-01-11T11:45:00+00:00',\n",
              "  'departure_airport': 'Seoul (Incheon)',\n",
              "  'arrival_country': 'NRT',\n",
              "  'arrival_airport': 'Narita International Airport',\n",
              "  'arrival_sched_time': '2024-01-11T14:15:00+00:00'},\n",
              " {'flight_iata': 'MU2990',\n",
              "  'departure_sched_time': '2024-01-11T11:45:00+00:00',\n",
              "  'departure_airport': 'Seoul (Incheon)',\n",
              "  'arrival_country': 'WUX',\n",
              "  'arrival_airport': 'Wuxi',\n",
              "  'arrival_sched_time': '2024-01-11T12:45:00+00:00'}]"
            ]
          },
          "metadata": {},
          "execution_count": 92
        }
      ]
    },
    {
      "cell_type": "markdown",
      "source": [
        "# flight offers search (price)\n",
        "\n",
        "https://developers.amadeus.com/self-service/category/flights/api-doc/flight-offers-search\n",
        "\n"
      ],
      "metadata": {
        "id": "fsmyGe07Kxoh"
      }
    },
    {
      "cell_type": "markdown",
      "source": [
        "## token"
      ],
      "metadata": {
        "id": "exc2bZD9LLV9"
      }
    },
    {
      "cell_type": "code",
      "source": [
        "!curl \"https://test.api.amadeus.com/v1/security/oauth2/token\" \\\n",
        "    -H \"Content-Type: application/x-www-form-urlencoded\" \\\n",
        "    -d f\"grant_type=client_credentials&client_id={price_access_key}&client_secret={price_secret_key}\""
      ],
      "metadata": {
        "id": "5FHeTpTBK-s-"
      },
      "execution_count": null,
      "outputs": []
    },
    {
      "cell_type": "markdown",
      "source": [
        "## api"
      ],
      "metadata": {
        "id": "sOwg1oKzLa9m"
      }
    },
    {
      "cell_type": "code",
      "source": [
        "token = '***'\n",
        "url = \"https://test.api.amadeus.com/v2/shopping/flight-offers\"\n",
        "\n",
        "headers = {\n",
        "    'Authorization': f'Bearer {token}',\n",
        "    'Content-Type': 'application/x-www-form-urlencoded'\n",
        "}\n",
        "\n",
        "price_list = []\n",
        "\n",
        "\n",
        "for f in flight_list:\n",
        "    arrival_country = f['arrival_country']\n",
        "    params = {\n",
        "        'originLocationCode': 'ICN',\n",
        "        'destinationLocationCode': arrival_country,\n",
        "        'departureDate': '2024-01-11',\n",
        "        'currencyCode': 'KRW',\n",
        "        'adults': '1',\n",
        "        'max': 10,\n",
        "    }\n",
        "\n",
        "    response = requests.get(url, headers=headers, params=params)\n",
        "\n",
        "    try:\n",
        "        offers = response.json()\n",
        "        for offer in offers.get('data'):\n",
        "            first_flight = offer.get('itineraries')[0]['segments'][0]\n",
        "            flight_iata = first_flight['carrierCode'] + first_flight['number']\n",
        "            departure_sched_time = first_flight['departure']['at']\n",
        "            price = offer['price']['total']\n",
        "            cabin = offer['travelerPricings'][0]['fareDetailsBySegment'][0]['cabin']\n",
        "\n",
        "            price_dict = {'flight_iata':flight_iata, 'departure_sched_time':departure_sched_time,\\\n",
        "                            'price':price, 'cabin':cabin}\n",
        "            price_list.append(price_dict)\n",
        "    except Exception as e:\n",
        "        print(e)\n",
        "        print(response.status_code)\n",
        "        print(response.text)"
      ],
      "metadata": {
        "id": "oM_4O1vfLSDH"
      },
      "execution_count": null,
      "outputs": []
    },
    {
      "cell_type": "code",
      "source": [
        "pprint.pprint(price_list[:3])\n",
        "print(len(price_list))"
      ],
      "metadata": {
        "colab": {
          "base_uri": "https://localhost:8080/"
        },
        "id": "yWoXvOCwTEda",
        "outputId": "bb138f9f-735b-4a2f-caf8-d9b80ebaa6f4"
      },
      "execution_count": null,
      "outputs": [
        {
          "output_type": "stream",
          "name": "stdout",
          "text": [
            "[{'cabin': 'ECONOMY',\n",
            "  'departure_sched_time': '2024-01-11T09:53:00',\n",
            "  'flight_iata': '6X957',\n",
            "  'price': '128000.00'},\n",
            " {'cabin': 'ECONOMY',\n",
            "  'departure_sched_time': '2024-01-11T14:05:00',\n",
            "  'flight_iata': '6X956',\n",
            "  'price': '128000.00'},\n",
            " {'cabin': 'ECONOMY',\n",
            "  'departure_sched_time': '2024-01-11T18:45:00',\n",
            "  'flight_iata': 'KE705',\n",
            "  'price': '155600.00'}]\n",
            "978\n"
          ]
        }
      ]
    }
  ]
}