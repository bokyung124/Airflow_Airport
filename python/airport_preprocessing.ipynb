{
  "nbformat": 4,
  "nbformat_minor": 0,
  "metadata": {
    "colab": {
      "provenance": [],
      "authorship_tag": "ABX9TyO/XNWVnp7i0Lj3EpT5L1mT"
    },
    "kernelspec": {
      "name": "python3",
      "display_name": "Python 3"
    },
    "language_info": {
      "name": "python"
    }
  },
  "cells": [
    {
      "cell_type": "markdown",
      "source": [
        "# 라이브러리 호출 및 access key"
      ],
      "metadata": {
        "id": "gEn7EvqK89Id"
      }
    },
    {
      "cell_type": "code",
      "execution_count": 5,
      "metadata": {
        "id": "AkTqUKss863r"
      },
      "outputs": [],
      "source": [
        "import requests\n",
        "import json\n",
        "import pprint\n",
        "import pandas as pd\n",
        "from itertools import islice"
      ]
    },
    {
      "cell_type": "code",
      "source": [
        "flight_access_key = '***'\n",
        "price_access_key = '***'\n",
        "price_secret_key = '***'"
      ],
      "metadata": {
        "id": "T2BLPKYm9Cf0"
      },
      "execution_count": 2,
      "outputs": []
    },
    {
      "cell_type": "markdown",
      "source": [
        "# 도시, 국가 list -> dict"
      ],
      "metadata": {
        "id": "ATBTGFer9R0F"
      }
    },
    {
      "cell_type": "code",
      "source": [
        "offset = 0\n",
        "limit = 100"
      ],
      "metadata": {
        "id": "srgEqxLt9Ofx"
      },
      "execution_count": 3,
      "outputs": []
    },
    {
      "cell_type": "markdown",
      "source": [
        "## country"
      ],
      "metadata": {
        "id": "1VuNLPaP9om3"
      }
    },
    {
      "cell_type": "code",
      "source": [
        "country_set = set()\n",
        "\n",
        "while True:\n",
        "    url = f'http://api.aviationstack.com/v1/airports?access_key={access_key}&offset={offset}&limit={limit}'\n",
        "    ctr_response = requests.get(url)\n",
        "    data = json.loads(ctr_response.text)\n",
        "    for d in data.get('data'):\n",
        "        country_set.add(d.get('country_name'))\n",
        "    if offset >= data['pagination']['total']:\n",
        "        break\n",
        "    offset += limit\n",
        "\n",
        "country_set.remove(None)\n",
        "print(len(country_set))"
      ],
      "metadata": {
        "colab": {
          "base_uri": "https://localhost:8080/"
        },
        "id": "wPFCSrS-FUhx",
        "outputId": "f46edbe5-e1f4-4016-c54d-a0e080485a26"
      },
      "execution_count": null,
      "outputs": [
        {
          "output_type": "stream",
          "name": "stdout",
          "text": [
            "232\n"
          ]
        }
      ]
    },
    {
      "cell_type": "code",
      "source": [
        "country = [i.replace('\\n', '').replace('\\r', '') for i in country_set]\n",
        "country[:10]"
      ],
      "metadata": {
        "colab": {
          "base_uri": "https://localhost:8080/"
        },
        "id": "pYHjJjdg7MKD",
        "outputId": "6bdb4fb5-4d8b-4675-fe33-8be9a65bef37"
      },
      "execution_count": null,
      "outputs": [
        {
          "output_type": "execute_result",
          "data": {
            "text/plain": [
              "['Czech Republic',\n",
              " 'Haiti',\n",
              " 'Kyrgyzstan',\n",
              " 'Central African Republic',\n",
              " 'Sweden',\n",
              " 'Bolivia',\n",
              " 'Nauru',\n",
              " 'Honduras',\n",
              " 'Jersey',\n",
              " 'Niue']"
            ]
          },
          "metadata": {},
          "execution_count": 81
        }
      ]
    },
    {
      "cell_type": "markdown",
      "source": [
        "## city & airport"
      ],
      "metadata": {
        "id": "qQX8V3TU9_yM"
      }
    },
    {
      "cell_type": "code",
      "source": [
        "offset = 0\n",
        "\n",
        "airport_set = set()\n",
        "city_set = set()\n",
        "\n",
        "while True:\n",
        "    url = f'http://api.aviationstack.com/v1/airports?access_key={access_key}&offset={offset}&limit={limit}'\n",
        "    response = requests.get(url)\n",
        "    airports = json.loads(response.text)\n",
        "    for d in airports.get('data'):\n",
        "        airport_set.add(d.get('airport_name'))\n",
        "        city_set.add(d.get('city_iata_code'))\n",
        "    if offset >= airports['pagination']['total']:\n",
        "        break\n",
        "    offset += limit"
      ],
      "metadata": {
        "id": "Js1zeRfWxyKG"
      },
      "execution_count": null,
      "outputs": []
    },
    {
      "cell_type": "code",
      "source": [
        "airport = [i for i in airport_set]\n",
        "city = [i for i in city_set]\n",
        "print(airport[:5])\n",
        "print(len(airport))\n",
        "print('------')\n",
        "print(city[:5])\n",
        "print(len(city))"
      ],
      "metadata": {
        "colab": {
          "base_uri": "https://localhost:8080/"
        },
        "id": "kPnylQfkyHoU",
        "outputId": "d8e6a442-e042-455f-8476-1df839d5c9dc"
      },
      "execution_count": null,
      "outputs": [
        {
          "output_type": "stream",
          "name": "stdout",
          "text": [
            "['Wilmington Railway', 'Momeik', 'Victoria Falls', 'Istanbul Airport', 'Mainz Finthen Airport']\n",
            "6454\n",
            "------\n",
            "['KKP', 'YCB', 'OSN', 'JLS', 'MQZ']\n",
            "6198\n"
          ]
        }
      ]
    },
    {
      "cell_type": "markdown",
      "source": [
        "## iata -> city"
      ],
      "metadata": {
        "id": "EIc01viH-jBY"
      }
    },
    {
      "cell_type": "code",
      "source": [
        "iata_city = {}\n",
        "offset = 0\n",
        "\n",
        "while True:\n",
        "    url = f'http://api.aviationstack.com/v1/cities?access_key={access_key}&offset={offset}&limit={limit}'\n",
        "    ctr_response = requests.get(url)\n",
        "    data = json.loads(ctr_response.text)\n",
        "    for ct in data.get('data'):\n",
        "        if ct['iata_code'] not in iata_city.keys():\n",
        "            iata_city[ct['iata_code']] = {'city_name': ct['city_name'], 'country': ct['country_iso2']}\n",
        "    if offset >= data['pagination']['total']:\n",
        "        break\n",
        "    offset += limit\n",
        "\n",
        "print(len(iata_city))"
      ],
      "metadata": {
        "colab": {
          "base_uri": "https://localhost:8080/"
        },
        "id": "b3bl2K4r82Ii",
        "outputId": "fb7a7c9b-b2b5-4034-ceac-f7ea714367db"
      },
      "execution_count": null,
      "outputs": [
        {
          "output_type": "stream",
          "name": "stdout",
          "text": [
            "9370\n"
          ]
        }
      ]
    },
    {
      "cell_type": "code",
      "source": [
        "pprint.pprint(dict(islice(iata_city.items(), 5)))"
      ],
      "metadata": {
        "colab": {
          "base_uri": "https://localhost:8080/"
        },
        "outputId": "43380040-0ca0-4b1e-9e30-f925c3e8c597",
        "id": "eQzsopeCDW-r"
      },
      "execution_count": null,
      "outputs": [
        {
          "output_type": "stream",
          "name": "stdout",
          "text": [
            "{'AAA': {'city_name': 'Anaa', 'country': 'PF'},\n",
            " 'AAB': {'city_name': 'Arrabury', 'country': 'AU'},\n",
            " 'AAC': {'city_name': 'El Arish', 'country': 'EG'},\n",
            " 'AAE': {'city_name': 'Annaba', 'country': 'DZ'},\n",
            " 'AAF': {'city_name': 'Apalachicola', 'country': 'US'}}\n"
          ]
        }
      ]
    },
    {
      "cell_type": "markdown",
      "source": [
        "## iata -> country"
      ],
      "metadata": {
        "id": "WwxEykoPAkfA"
      }
    },
    {
      "cell_type": "code",
      "source": [
        "iso2_country = {}\n",
        "offset = 0\n",
        "\n",
        "while True:\n",
        "    url = f'http://api.aviationstack.com/v1/countries?access_key={access_key}&offset={offset}&limit={limit}'\n",
        "    response = requests.get(url)\n",
        "    data = json.loads(response.text)\n",
        "    for ct in data.get('data'):\n",
        "        if ct['country_iso2'] not in iso2_country.keys():\n",
        "            iso2_country[ct['country_iso2']] = {'country_name': ct['country_name'], 'currency': ct['currency_name']}\n",
        "    if offset >= data['pagination']['total']:\n",
        "        break\n",
        "    offset += limit\n",
        "\n",
        "print(len(iso2_country))"
      ],
      "metadata": {
        "colab": {
          "base_uri": "https://localhost:8080/"
        },
        "id": "-G5iYYoJp8PL",
        "outputId": "7acbeb39-bab8-4548-ccdc-93d910519110"
      },
      "execution_count": null,
      "outputs": [
        {
          "output_type": "stream",
          "name": "stdout",
          "text": [
            "252\n"
          ]
        }
      ]
    },
    {
      "cell_type": "code",
      "source": [
        "pprint.pprint(dict(islice(iso2_country.items(), 5)))"
      ],
      "metadata": {
        "colab": {
          "base_uri": "https://localhost:8080/"
        },
        "outputId": "c42ad509-e6df-4a5e-c1cb-9cd923f6238a",
        "id": "M3ift87mDijq"
      },
      "execution_count": null,
      "outputs": [
        {
          "output_type": "stream",
          "name": "stdout",
          "text": [
            "{'AD': {'country_name': 'Andorra', 'currency': 'Euro'},\n",
            " 'AE': {'country_name': 'United Arab Emirates', 'currency': 'Dirham'},\n",
            " 'AF': {'country_name': 'Afghanistan', 'currency': 'Afghani'},\n",
            " 'AG': {'country_name': 'Antigua and Barbuda', 'currency': 'Dollar'},\n",
            " 'AI': {'country_name': 'Anguilla', 'currency': 'Dollar'}}\n"
          ]
        }
      ]
    },
    {
      "cell_type": "markdown",
      "source": [
        "### to_df"
      ],
      "metadata": {
        "id": "D-kFmZW-AxQb"
      }
    },
    {
      "cell_type": "code",
      "source": [
        "city_country = []\n",
        "for city_code, info in iata_city.items():\n",
        "    country_info = iso2_country.get(info['country'], {'country_name':'', 'currency':''})\n",
        "    if city_code is not None:\n",
        "        city_country.append({\n",
        "            'city_code': city_code,\n",
        "            'city_name': info['city_name'],\n",
        "            'country_code': info['country'],\n",
        "            'country_name': country_info['country_name'],\n",
        "            'currency': country_info['currency']\n",
        "        })\n",
        "\n",
        "city_df = pd.DataFrame(city_country)\n",
        "print(len(city_df))\n",
        "city_df.head(10)"
      ],
      "metadata": {
        "colab": {
          "base_uri": "https://localhost:8080/",
          "height": 381
        },
        "id": "uh4FmJcbMFPL",
        "outputId": "dde154e1-9053-4428-f367-ccfc650ad16d"
      },
      "execution_count": null,
      "outputs": [
        {
          "output_type": "stream",
          "name": "stdout",
          "text": [
            "9369\n"
          ]
        },
        {
          "output_type": "execute_result",
          "data": {
            "text/plain": [
              "  city_code     city_name country_code      country_name currency\n",
              "0       AAA          Anaa           PF  French Polynesia    Franc\n",
              "1       AAB      Arrabury           AU         Australia   Dollar\n",
              "2       AAC      El Arish           EG             Egypt    Pound\n",
              "3       AAE        Annaba           DZ           Algeria    Dinar\n",
              "4       AAF  Apalachicola           US     United States   Dollar\n",
              "5       AAG       Arapoti           BR            Brazil     Real\n",
              "6       AAH        Aachen           DE           Germany     Euro\n",
              "7       AAI       Arraias           BR            Brazil     Real\n",
              "8       AAJ      Awaradam           SR          Suriname   Dollar\n",
              "9       AAK       Aranuka           KI          Kiribati   Dollar"
            ],
            "text/html": [
              "\n",
              "  <div id=\"df-e017904b-bbdd-4ec8-911e-d47708c9cbb1\" class=\"colab-df-container\">\n",
              "    <div>\n",
              "<style scoped>\n",
              "    .dataframe tbody tr th:only-of-type {\n",
              "        vertical-align: middle;\n",
              "    }\n",
              "\n",
              "    .dataframe tbody tr th {\n",
              "        vertical-align: top;\n",
              "    }\n",
              "\n",
              "    .dataframe thead th {\n",
              "        text-align: right;\n",
              "    }\n",
              "</style>\n",
              "<table border=\"1\" class=\"dataframe\">\n",
              "  <thead>\n",
              "    <tr style=\"text-align: right;\">\n",
              "      <th></th>\n",
              "      <th>city_code</th>\n",
              "      <th>city_name</th>\n",
              "      <th>country_code</th>\n",
              "      <th>country_name</th>\n",
              "      <th>currency</th>\n",
              "    </tr>\n",
              "  </thead>\n",
              "  <tbody>\n",
              "    <tr>\n",
              "      <th>0</th>\n",
              "      <td>AAA</td>\n",
              "      <td>Anaa</td>\n",
              "      <td>PF</td>\n",
              "      <td>French Polynesia</td>\n",
              "      <td>Franc</td>\n",
              "    </tr>\n",
              "    <tr>\n",
              "      <th>1</th>\n",
              "      <td>AAB</td>\n",
              "      <td>Arrabury</td>\n",
              "      <td>AU</td>\n",
              "      <td>Australia</td>\n",
              "      <td>Dollar</td>\n",
              "    </tr>\n",
              "    <tr>\n",
              "      <th>2</th>\n",
              "      <td>AAC</td>\n",
              "      <td>El Arish</td>\n",
              "      <td>EG</td>\n",
              "      <td>Egypt</td>\n",
              "      <td>Pound</td>\n",
              "    </tr>\n",
              "    <tr>\n",
              "      <th>3</th>\n",
              "      <td>AAE</td>\n",
              "      <td>Annaba</td>\n",
              "      <td>DZ</td>\n",
              "      <td>Algeria</td>\n",
              "      <td>Dinar</td>\n",
              "    </tr>\n",
              "    <tr>\n",
              "      <th>4</th>\n",
              "      <td>AAF</td>\n",
              "      <td>Apalachicola</td>\n",
              "      <td>US</td>\n",
              "      <td>United States</td>\n",
              "      <td>Dollar</td>\n",
              "    </tr>\n",
              "    <tr>\n",
              "      <th>5</th>\n",
              "      <td>AAG</td>\n",
              "      <td>Arapoti</td>\n",
              "      <td>BR</td>\n",
              "      <td>Brazil</td>\n",
              "      <td>Real</td>\n",
              "    </tr>\n",
              "    <tr>\n",
              "      <th>6</th>\n",
              "      <td>AAH</td>\n",
              "      <td>Aachen</td>\n",
              "      <td>DE</td>\n",
              "      <td>Germany</td>\n",
              "      <td>Euro</td>\n",
              "    </tr>\n",
              "    <tr>\n",
              "      <th>7</th>\n",
              "      <td>AAI</td>\n",
              "      <td>Arraias</td>\n",
              "      <td>BR</td>\n",
              "      <td>Brazil</td>\n",
              "      <td>Real</td>\n",
              "    </tr>\n",
              "    <tr>\n",
              "      <th>8</th>\n",
              "      <td>AAJ</td>\n",
              "      <td>Awaradam</td>\n",
              "      <td>SR</td>\n",
              "      <td>Suriname</td>\n",
              "      <td>Dollar</td>\n",
              "    </tr>\n",
              "    <tr>\n",
              "      <th>9</th>\n",
              "      <td>AAK</td>\n",
              "      <td>Aranuka</td>\n",
              "      <td>KI</td>\n",
              "      <td>Kiribati</td>\n",
              "      <td>Dollar</td>\n",
              "    </tr>\n",
              "  </tbody>\n",
              "</table>\n",
              "</div>\n",
              "    <div class=\"colab-df-buttons\">\n",
              "\n",
              "  <div class=\"colab-df-container\">\n",
              "    <button class=\"colab-df-convert\" onclick=\"convertToInteractive('df-e017904b-bbdd-4ec8-911e-d47708c9cbb1')\"\n",
              "            title=\"Convert this dataframe to an interactive table.\"\n",
              "            style=\"display:none;\">\n",
              "\n",
              "  <svg xmlns=\"http://www.w3.org/2000/svg\" height=\"24px\" viewBox=\"0 -960 960 960\">\n",
              "    <path d=\"M120-120v-720h720v720H120Zm60-500h600v-160H180v160Zm220 220h160v-160H400v160Zm0 220h160v-160H400v160ZM180-400h160v-160H180v160Zm440 0h160v-160H620v160ZM180-180h160v-160H180v160Zm440 0h160v-160H620v160Z\"/>\n",
              "  </svg>\n",
              "    </button>\n",
              "\n",
              "  <style>\n",
              "    .colab-df-container {\n",
              "      display:flex;\n",
              "      gap: 12px;\n",
              "    }\n",
              "\n",
              "    .colab-df-convert {\n",
              "      background-color: #E8F0FE;\n",
              "      border: none;\n",
              "      border-radius: 50%;\n",
              "      cursor: pointer;\n",
              "      display: none;\n",
              "      fill: #1967D2;\n",
              "      height: 32px;\n",
              "      padding: 0 0 0 0;\n",
              "      width: 32px;\n",
              "    }\n",
              "\n",
              "    .colab-df-convert:hover {\n",
              "      background-color: #E2EBFA;\n",
              "      box-shadow: 0px 1px 2px rgba(60, 64, 67, 0.3), 0px 1px 3px 1px rgba(60, 64, 67, 0.15);\n",
              "      fill: #174EA6;\n",
              "    }\n",
              "\n",
              "    .colab-df-buttons div {\n",
              "      margin-bottom: 4px;\n",
              "    }\n",
              "\n",
              "    [theme=dark] .colab-df-convert {\n",
              "      background-color: #3B4455;\n",
              "      fill: #D2E3FC;\n",
              "    }\n",
              "\n",
              "    [theme=dark] .colab-df-convert:hover {\n",
              "      background-color: #434B5C;\n",
              "      box-shadow: 0px 1px 3px 1px rgba(0, 0, 0, 0.15);\n",
              "      filter: drop-shadow(0px 1px 2px rgba(0, 0, 0, 0.3));\n",
              "      fill: #FFFFFF;\n",
              "    }\n",
              "  </style>\n",
              "\n",
              "    <script>\n",
              "      const buttonEl =\n",
              "        document.querySelector('#df-e017904b-bbdd-4ec8-911e-d47708c9cbb1 button.colab-df-convert');\n",
              "      buttonEl.style.display =\n",
              "        google.colab.kernel.accessAllowed ? 'block' : 'none';\n",
              "\n",
              "      async function convertToInteractive(key) {\n",
              "        const element = document.querySelector('#df-e017904b-bbdd-4ec8-911e-d47708c9cbb1');\n",
              "        const dataTable =\n",
              "          await google.colab.kernel.invokeFunction('convertToInteractive',\n",
              "                                                    [key], {});\n",
              "        if (!dataTable) return;\n",
              "\n",
              "        const docLinkHtml = 'Like what you see? Visit the ' +\n",
              "          '<a target=\"_blank\" href=https://colab.research.google.com/notebooks/data_table.ipynb>data table notebook</a>'\n",
              "          + ' to learn more about interactive tables.';\n",
              "        element.innerHTML = '';\n",
              "        dataTable['output_type'] = 'display_data';\n",
              "        await google.colab.output.renderOutput(dataTable, element);\n",
              "        const docLink = document.createElement('div');\n",
              "        docLink.innerHTML = docLinkHtml;\n",
              "        element.appendChild(docLink);\n",
              "      }\n",
              "    </script>\n",
              "  </div>\n",
              "\n",
              "\n",
              "<div id=\"df-ac8fb6fb-cba5-4f01-be19-7018ac1f245c\">\n",
              "  <button class=\"colab-df-quickchart\" onclick=\"quickchart('df-ac8fb6fb-cba5-4f01-be19-7018ac1f245c')\"\n",
              "            title=\"Suggest charts\"\n",
              "            style=\"display:none;\">\n",
              "\n",
              "<svg xmlns=\"http://www.w3.org/2000/svg\" height=\"24px\"viewBox=\"0 0 24 24\"\n",
              "     width=\"24px\">\n",
              "    <g>\n",
              "        <path d=\"M19 3H5c-1.1 0-2 .9-2 2v14c0 1.1.9 2 2 2h14c1.1 0 2-.9 2-2V5c0-1.1-.9-2-2-2zM9 17H7v-7h2v7zm4 0h-2V7h2v10zm4 0h-2v-4h2v4z\"/>\n",
              "    </g>\n",
              "</svg>\n",
              "  </button>\n",
              "\n",
              "<style>\n",
              "  .colab-df-quickchart {\n",
              "      --bg-color: #E8F0FE;\n",
              "      --fill-color: #1967D2;\n",
              "      --hover-bg-color: #E2EBFA;\n",
              "      --hover-fill-color: #174EA6;\n",
              "      --disabled-fill-color: #AAA;\n",
              "      --disabled-bg-color: #DDD;\n",
              "  }\n",
              "\n",
              "  [theme=dark] .colab-df-quickchart {\n",
              "      --bg-color: #3B4455;\n",
              "      --fill-color: #D2E3FC;\n",
              "      --hover-bg-color: #434B5C;\n",
              "      --hover-fill-color: #FFFFFF;\n",
              "      --disabled-bg-color: #3B4455;\n",
              "      --disabled-fill-color: #666;\n",
              "  }\n",
              "\n",
              "  .colab-df-quickchart {\n",
              "    background-color: var(--bg-color);\n",
              "    border: none;\n",
              "    border-radius: 50%;\n",
              "    cursor: pointer;\n",
              "    display: none;\n",
              "    fill: var(--fill-color);\n",
              "    height: 32px;\n",
              "    padding: 0;\n",
              "    width: 32px;\n",
              "  }\n",
              "\n",
              "  .colab-df-quickchart:hover {\n",
              "    background-color: var(--hover-bg-color);\n",
              "    box-shadow: 0 1px 2px rgba(60, 64, 67, 0.3), 0 1px 3px 1px rgba(60, 64, 67, 0.15);\n",
              "    fill: var(--button-hover-fill-color);\n",
              "  }\n",
              "\n",
              "  .colab-df-quickchart-complete:disabled,\n",
              "  .colab-df-quickchart-complete:disabled:hover {\n",
              "    background-color: var(--disabled-bg-color);\n",
              "    fill: var(--disabled-fill-color);\n",
              "    box-shadow: none;\n",
              "  }\n",
              "\n",
              "  .colab-df-spinner {\n",
              "    border: 2px solid var(--fill-color);\n",
              "    border-color: transparent;\n",
              "    border-bottom-color: var(--fill-color);\n",
              "    animation:\n",
              "      spin 1s steps(1) infinite;\n",
              "  }\n",
              "\n",
              "  @keyframes spin {\n",
              "    0% {\n",
              "      border-color: transparent;\n",
              "      border-bottom-color: var(--fill-color);\n",
              "      border-left-color: var(--fill-color);\n",
              "    }\n",
              "    20% {\n",
              "      border-color: transparent;\n",
              "      border-left-color: var(--fill-color);\n",
              "      border-top-color: var(--fill-color);\n",
              "    }\n",
              "    30% {\n",
              "      border-color: transparent;\n",
              "      border-left-color: var(--fill-color);\n",
              "      border-top-color: var(--fill-color);\n",
              "      border-right-color: var(--fill-color);\n",
              "    }\n",
              "    40% {\n",
              "      border-color: transparent;\n",
              "      border-right-color: var(--fill-color);\n",
              "      border-top-color: var(--fill-color);\n",
              "    }\n",
              "    60% {\n",
              "      border-color: transparent;\n",
              "      border-right-color: var(--fill-color);\n",
              "    }\n",
              "    80% {\n",
              "      border-color: transparent;\n",
              "      border-right-color: var(--fill-color);\n",
              "      border-bottom-color: var(--fill-color);\n",
              "    }\n",
              "    90% {\n",
              "      border-color: transparent;\n",
              "      border-bottom-color: var(--fill-color);\n",
              "    }\n",
              "  }\n",
              "</style>\n",
              "\n",
              "  <script>\n",
              "    async function quickchart(key) {\n",
              "      const quickchartButtonEl =\n",
              "        document.querySelector('#' + key + ' button');\n",
              "      quickchartButtonEl.disabled = true;  // To prevent multiple clicks.\n",
              "      quickchartButtonEl.classList.add('colab-df-spinner');\n",
              "      try {\n",
              "        const charts = await google.colab.kernel.invokeFunction(\n",
              "            'suggestCharts', [key], {});\n",
              "      } catch (error) {\n",
              "        console.error('Error during call to suggestCharts:', error);\n",
              "      }\n",
              "      quickchartButtonEl.classList.remove('colab-df-spinner');\n",
              "      quickchartButtonEl.classList.add('colab-df-quickchart-complete');\n",
              "    }\n",
              "    (() => {\n",
              "      let quickchartButtonEl =\n",
              "        document.querySelector('#df-ac8fb6fb-cba5-4f01-be19-7018ac1f245c button');\n",
              "      quickchartButtonEl.style.display =\n",
              "        google.colab.kernel.accessAllowed ? 'block' : 'none';\n",
              "    })();\n",
              "  </script>\n",
              "</div>\n",
              "\n",
              "    </div>\n",
              "  </div>\n"
            ]
          },
          "metadata": {},
          "execution_count": 79
        }
      ]
    }
  ]
}