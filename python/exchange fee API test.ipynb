{
 "cells": [
  {
   "cell_type": "code",
   "execution_count": 1,
   "id": "aa835de4-d6fc-4d2a-8d0a-d4e18258d6e6",
   "metadata": {},
   "outputs": [],
   "source": [
    "import requests\n",
    "\n",
    "key = \"***\"\n",
    "API_HOST = f\"https://www.koreaexim.go.kr/site/program/financial/exchangeJSON?authkey={key}&data=AP01\"\n",
    "response = requests.get(API_HOST)"
   ]
  },
  {
   "cell_type": "code",
   "execution_count": 2,
   "id": "31e38f5b-615c-42a3-abfd-fcae34836b8b",
   "metadata": {},
   "outputs": [
    {
     "data": {
      "text/plain": [
       "23"
      ]
     },
     "execution_count": 2,
     "metadata": {},
     "output_type": "execute_result"
    }
   ],
   "source": [
    "data = response.json()\n",
    "len(data)"
   ]
  },
  {
   "cell_type": "code",
   "execution_count": 3,
   "id": "796e9184-5983-434b-96b2-06caf3972e4b",
   "metadata": {},
   "outputs": [
    {
     "data": {
      "text/plain": [
       "[{'result': 1,\n",
       "  'cur_unit': 'AED',\n",
       "  'ttb': '354.39',\n",
       "  'tts': '361.54',\n",
       "  'deal_bas_r': '357.97',\n",
       "  'bkpr': '357',\n",
       "  'yy_efee_r': '0',\n",
       "  'ten_dd_efee_r': '0',\n",
       "  'kftc_bkpr': '357',\n",
       "  'kftc_deal_bas_r': '357.97',\n",
       "  'cur_nm': '아랍에미리트 디르함'},\n",
       " {'result': 1,\n",
       "  'cur_unit': 'AUD',\n",
       "  'ttb': '874.44',\n",
       "  'tts': '892.11',\n",
       "  'deal_bas_r': '883.28',\n",
       "  'bkpr': '883',\n",
       "  'yy_efee_r': '0',\n",
       "  'ten_dd_efee_r': '0',\n",
       "  'kftc_bkpr': '883',\n",
       "  'kftc_deal_bas_r': '883.28',\n",
       "  'cur_nm': '호주 달러'},\n",
       " {'result': 1,\n",
       "  'cur_unit': 'BHD',\n",
       "  'ttb': '3,452.75',\n",
       "  'tts': '3,522.5',\n",
       "  'deal_bas_r': '3,487.63',\n",
       "  'bkpr': '3,487',\n",
       "  'yy_efee_r': '0',\n",
       "  'ten_dd_efee_r': '0',\n",
       "  'kftc_bkpr': '3,487',\n",
       "  'kftc_deal_bas_r': '3,487.63',\n",
       "  'cur_nm': '바레인 디나르'},\n",
       " {'result': 1,\n",
       "  'cur_unit': 'BND',\n",
       "  'ttb': '980.22',\n",
       "  'tts': '1,000.03',\n",
       "  'deal_bas_r': '990.13',\n",
       "  'bkpr': '990',\n",
       "  'yy_efee_r': '0',\n",
       "  'ten_dd_efee_r': '0',\n",
       "  'kftc_bkpr': '990',\n",
       "  'kftc_deal_bas_r': '990.13',\n",
       "  'cur_nm': '브루나이 달러'},\n",
       " {'result': 1,\n",
       "  'cur_unit': 'CAD',\n",
       "  'ttb': '974.91',\n",
       "  'tts': '994.6',\n",
       "  'deal_bas_r': '984.76',\n",
       "  'bkpr': '984',\n",
       "  'yy_efee_r': '0',\n",
       "  'ten_dd_efee_r': '0',\n",
       "  'kftc_bkpr': '984',\n",
       "  'kftc_deal_bas_r': '984.76',\n",
       "  'cur_nm': '캐나다 달러'}]"
      ]
     },
     "execution_count": 3,
     "metadata": {},
     "output_type": "execute_result"
    }
   ],
   "source": [
    "data[:5]"
   ]
  },
  {
   "cell_type": "code",
   "execution_count": 5,
   "id": "d8f73224-d091-4d32-8b1f-ae61bca9e5a0",
   "metadata": {},
   "outputs": [
    {
     "data": {
      "text/plain": [
       "['아랍에미리트 디르함',\n",
       " '호주 달러',\n",
       " '바레인 디나르',\n",
       " '브루나이 달러',\n",
       " '캐나다 달러',\n",
       " '스위스 프랑',\n",
       " '위안화',\n",
       " '덴마아크 크로네',\n",
       " '유로',\n",
       " '영국 파운드',\n",
       " '홍콩 달러',\n",
       " '인도네시아 루피아',\n",
       " '일본 옌',\n",
       " '한국 원',\n",
       " '쿠웨이트 디나르',\n",
       " '말레이지아 링기트',\n",
       " '노르웨이 크로네',\n",
       " '뉴질랜드 달러',\n",
       " '사우디 리얄',\n",
       " '스웨덴 크로나',\n",
       " '싱가포르 달러',\n",
       " '태국 바트',\n",
       " '미국 달러']"
      ]
     },
     "execution_count": 5,
     "metadata": {},
     "output_type": "execute_result"
    }
   ],
   "source": [
    "[i['cur_nm'] for i in data]"
   ]
  },
  {
   "cell_type": "code",
   "execution_count": 23,
   "id": "28e113fc-f403-44e4-804e-e495594ff021",
   "metadata": {
    "scrolled": true
   },
   "outputs": [
    {
     "data": {
      "text/plain": [
       "[]"
      ]
     },
     "execution_count": 23,
     "metadata": {},
     "output_type": "execute_result"
    }
   ],
   "source": [
    "[(i[\"cur_unit\"], i[\"cur_nm\"]) for i in data if i[\"deal_bas_r\"] != i[\"kftc_deal_bas_r\"]]"
   ]
  },
  {
   "cell_type": "code",
   "execution_count": null,
   "id": "aebd4ab6-a68d-4a90-a583-d7b950db24e7",
   "metadata": {},
   "outputs": [],
   "source": [
    "# deal_bas_r 매매 기준율을 수집할 것"
   ]
  },
  {
   "cell_type": "code",
   "execution_count": null,
   "id": "6f63a354-b44e-4492-a062-cc892fdc6d37",
   "metadata": {},
   "outputs": [],
   "source": []
  }
 ],
 "metadata": {
  "kernelspec": {
   "display_name": "Python 3 (ipykernel)",
   "language": "python",
   "name": "python3"
  },
  "language_info": {
   "codemirror_mode": {
    "name": "ipython",
    "version": 3
   },
   "file_extension": ".py",
   "mimetype": "text/x-python",
   "name": "python",
   "nbconvert_exporter": "python",
   "pygments_lexer": "ipython3",
   "version": "3.8.6"
  }
 },
 "nbformat": 4,
 "nbformat_minor": 5
}
